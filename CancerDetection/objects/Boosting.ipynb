{
 "cells": [
  {
   "cell_type": "markdown",
   "metadata": {},
   "source": [
    "# Boosting Algorithm"
   ]
  },
  {
   "cell_type": "code",
   "execution_count": 1,
   "metadata": {
    "collapsed": true
   },
   "outputs": [],
   "source": [
    "import numpy as np\n",
    "import pandas as pd\n",
    "\n",
    "df = pd.DataFrame(np.random.randn(50, 6), columns=list('ABCDEF'))"
   ]
  },
  {
   "cell_type": "code",
   "execution_count": 15,
   "metadata": {
    "collapsed": false
   },
   "outputs": [
    {
     "data": {
      "text/html": [
       "<div>\n",
       "<table border=\"1\" class=\"dataframe\">\n",
       "  <thead>\n",
       "    <tr style=\"text-align: right;\">\n",
       "      <th></th>\n",
       "      <th>B</th>\n",
       "      <th>C</th>\n",
       "      <th>F</th>\n",
       "    </tr>\n",
       "  </thead>\n",
       "  <tbody>\n",
       "    <tr>\n",
       "      <th>0</th>\n",
       "      <td>0.322607</td>\n",
       "      <td>1.810567</td>\n",
       "      <td>0.886377</td>\n",
       "    </tr>\n",
       "    <tr>\n",
       "      <th>1</th>\n",
       "      <td>-1.314293</td>\n",
       "      <td>0.576044</td>\n",
       "      <td>-0.265037</td>\n",
       "    </tr>\n",
       "    <tr>\n",
       "      <th>2</th>\n",
       "      <td>-0.512571</td>\n",
       "      <td>-0.374962</td>\n",
       "      <td>1.295445</td>\n",
       "    </tr>\n",
       "    <tr>\n",
       "      <th>3</th>\n",
       "      <td>0.732302</td>\n",
       "      <td>-1.410955</td>\n",
       "      <td>-0.190227</td>\n",
       "    </tr>\n",
       "    <tr>\n",
       "      <th>4</th>\n",
       "      <td>-0.817893</td>\n",
       "      <td>0.978173</td>\n",
       "      <td>1.184319</td>\n",
       "    </tr>\n",
       "  </tbody>\n",
       "</table>\n",
       "</div>"
      ],
      "text/plain": [
       "          B         C         F\n",
       "0  0.322607  1.810567  0.886377\n",
       "1 -1.314293  0.576044 -0.265037\n",
       "2 -0.512571 -0.374962  1.295445\n",
       "3  0.732302 -1.410955 -0.190227\n",
       "4 -0.817893  0.978173  1.184319"
      ]
     },
     "execution_count": 15,
     "metadata": {},
     "output_type": "execute_result"
    }
   ],
   "source": [
    "ss = df.sample(n = 3, replace = True, axis = 1)\n",
    "ss.head()"
   ]
  },
  {
   "cell_type": "markdown",
   "metadata": {},
   "source": [
    "Choose"
   ]
  },
  {
   "cell_type": "code",
   "execution_count": 16,
   "metadata": {
    "collapsed": false
   },
   "outputs": [
    {
     "name": "stdout",
     "output_type": "stream",
     "text": [
      "Zounds!\n"
     ]
    }
   ],
   "source": [
    "import numpy as np\n",
    "import pandas as pd\n",
    "\n",
    "\n",
    "\"\"\"Fake Data Scenario\n",
    "\n",
    "Infatspace is a social networking application developed by DARPA\n",
    "to mentally program \"agents\" for covert intelligence operations (though everyone \n",
    "thinks it's for sharing cat pictures and downloading other people's photos for\n",
    "\"safe keeping\").\n",
    "\n",
    "You're given observations that represent profiles with incomprehensible features.\n",
    "The test data are labeled based on how a test subject reacted to each profile\n",
    "where +1 is \"bad\" and -1 is \"good.\" You're not sure what these labels are supposed\n",
    "to mean precisely.\n",
    "\"\"\"\n",
    "LEARN = pd.DataFrame(np.random.randn(100, 100))\n",
    "TEST = pd.DataFrame(np.random.randn(100, 25))\n",
    "CLASSIFICATION = np.random.randint(0, high=2, size=25)\n",
    "\n",
    "def num_observations(df):\n",
    "    return df.shape[1]\n",
    "    \n",
    "\n",
    "def grow_tree(ws, learn_set, sample_size):\n",
    "    \"\"\"Grow a decision tree using given weights ws and DataFrame learn_set\"\"\"\n",
    "    sample_set = learn_set.sample(n = sample_size, weights = ws, replace = True, axis = 1)\n",
    "    return DTree(data = sample_set)\n",
    "\n",
    "def update_weights(D, h_t, y, error_t):\n",
    "    \"\"\"IMPLEMENT\"\"\"\n",
    "    return D\n",
    "\n",
    "def my_booster(learn_set, test_x, test_y, sampling_size, num_boosts):\n",
    "    \"\"\"AdaBoost, learn_set is the learning set\n",
    "     test_x is a df, test_y is a series. Return a list of learner objects\"\"\"\n",
    "    k = num_boosts\n",
    "    \n",
    "    # number of observations\n",
    "    num_obs = num_observations(learn_set)\n",
    "    learners = []\n",
    "    \n",
    "    # Sum of alpha weighted hypotheses\n",
    "    hsum = 0\n",
    "    \n",
    "    # initial weights\n",
    "    D = (1.0/num_obs)*np.ones(num_obs)\n",
    "    \n",
    "    while k > 0:\n",
    "        tree_t = grow_tree(D, learn_set)\n",
    "        h_t = tree_t.classify(test_x)\n",
    "        error_t = learn_error(D, h_t, y)\n",
    "        alpha_t = 0.5*np.log((1.0 - error_t)/error_t)\n",
    "        learners.append({'alpha': alpha_t, 'tree': learner_t, 'D': D})\n",
    "        D = update_weights(D, h_t, y, error_t)\n",
    "        k = k - 1\n",
    "    return learners\n",
    "\n",
    "def boost_classify(learners, vct):\n",
    "    \"\"\"Run a set of boosted learners\"\"\"\n",
    "    hypothesis_sum = 0\n",
    "    for learner in learners:\n",
    "        alpha_t = learner['alpha']\n",
    "        tree_t = learner['tree']\n",
    "        h_t = tree_t.classify(vct)\n",
    "        hypothesis_sum = hypothesis_sum + alpha_t*h_t\n",
    "    \n",
    "    return np.sign(hypothesis_sum)\n",
    "\n",
    "def main():\n",
    "    print 'Zounds!'\n",
    "\n",
    "if __name__ == '__main__':\n",
    "    main()"
   ]
  },
  {
   "cell_type": "code",
   "execution_count": null,
   "metadata": {
    "collapsed": true
   },
   "outputs": [],
   "source": []
  }
 ],
 "metadata": {
  "kernelspec": {
   "display_name": "Python 2",
   "language": "python",
   "name": "python2"
  },
  "language_info": {
   "codemirror_mode": {
    "name": "ipython",
    "version": 2
   },
   "file_extension": ".py",
   "mimetype": "text/x-python",
   "name": "python",
   "nbconvert_exporter": "python",
   "pygments_lexer": "ipython2",
   "version": "2.7.10"
  }
 },
 "nbformat": 4,
 "nbformat_minor": 0
}
